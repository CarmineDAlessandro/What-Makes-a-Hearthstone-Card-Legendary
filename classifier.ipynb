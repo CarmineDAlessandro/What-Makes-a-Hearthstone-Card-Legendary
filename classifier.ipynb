{
 "cells": [
  {
   "cell_type": "markdown",
   "metadata": {},
   "source": [
    "## What Makes a Heartstone Card Legendary"
   ]
  },
  {
   "cell_type": "markdown",
   "metadata": {},
   "source": [
    "##### Load the data"
   ]
  },
  {
   "cell_type": "code",
   "execution_count": 1,
   "metadata": {},
   "outputs": [],
   "source": [
    "import pandas as pd\n",
    "import numpy as np\n",
    "from sklearn.model_selection import train_test_split\n",
    "from sklearn.ensemble import RandomForestClassifier\n",
    "from sklearn import metrics\n",
    "import seaborn as sns\n",
    "import matplotlib.pyplot as plt\n",
    "%matplotlib inline"
   ]
  },
  {
   "cell_type": "code",
   "execution_count": 2,
   "metadata": {},
   "outputs": [],
   "source": [
    "# card attributes\n",
    "file = open('header.txt', 'r')\n",
    "header = file.read().splitlines()\n",
    "file.close()\n",
    "\n",
    "# Read csv into dataframe\n",
    "dataset = pd.read_csv('cards.csv', delimiter=';', names=header, header=0)"
   ]
  },
  {
   "cell_type": "markdown",
   "metadata": {},
   "source": [
    "##### Clean the data"
   ]
  },
  {
   "cell_type": "code",
   "execution_count": 3,
   "metadata": {},
   "outputs": [],
   "source": [
    "def remove_attribute(attribute):\n",
    "    del dataset[attribute]\n",
    "    header.remove(attribute)"
   ]
  },
  {
   "cell_type": "code",
   "execution_count": 4,
   "metadata": {},
   "outputs": [],
   "source": [
    "# Delete extra attributes\n",
    "remove_attribute('cardId')\n",
    "remove_attribute('dbfId')\n",
    "remove_attribute('name')\n",
    "remove_attribute('img')\n",
    "remove_attribute('imgGold')\n",
    "remove_attribute('artist')\n",
    "remove_attribute('flavor')\n",
    "remove_attribute('multiClassGroup')\n",
    "remove_attribute('classes')\n",
    "remove_attribute('mechanics')\n",
    "remove_attribute('elite')\n",
    "remove_attribute('faction')\n",
    "remove_attribute('locale')\n",
    "# All the card sets (except the Classic set) have the same distribution of legendary cards\n",
    "remove_attribute('cardSet')\n",
    "# The fact that there is or not a constraint on obtaining the card can bias the model\n",
    "remove_attribute('howToGet')\n",
    "remove_attribute('howToGetGold')\n",
    "\n",
    "# Removed now but maybe useful in later works\n",
    "remove_attribute('text')"
   ]
  },
  {
   "cell_type": "code",
   "execution_count": 5,
   "metadata": {},
   "outputs": [
    {
     "data": {
      "text/html": [
       "<div>\n",
       "<style scoped>\n",
       "    .dataframe tbody tr th:only-of-type {\n",
       "        vertical-align: middle;\n",
       "    }\n",
       "\n",
       "    .dataframe tbody tr th {\n",
       "        vertical-align: top;\n",
       "    }\n",
       "\n",
       "    .dataframe thead th {\n",
       "        text-align: right;\n",
       "    }\n",
       "</style>\n",
       "<table border=\"1\" class=\"dataframe\">\n",
       "  <thead>\n",
       "    <tr style=\"text-align: right;\">\n",
       "      <th></th>\n",
       "      <th>rarity</th>\n",
       "      <th>type</th>\n",
       "      <th>playerClass</th>\n",
       "      <th>health</th>\n",
       "      <th>collectible</th>\n",
       "      <th>attack</th>\n",
       "      <th>race</th>\n",
       "      <th>cost</th>\n",
       "      <th>durability</th>\n",
       "      <th>armor</th>\n",
       "      <th>...</th>\n",
       "      <th>Adapt</th>\n",
       "      <th>Quest</th>\n",
       "      <th>Recruit</th>\n",
       "      <th>Rush</th>\n",
       "      <th>Echo</th>\n",
       "      <th>Magnetic</th>\n",
       "      <th>Overkill</th>\n",
       "      <th>Twinspell</th>\n",
       "      <th>Reborn</th>\n",
       "      <th>number mechanics</th>\n",
       "    </tr>\n",
       "  </thead>\n",
       "  <tbody>\n",
       "    <tr>\n",
       "      <th>0</th>\n",
       "      <td>Free</td>\n",
       "      <td>Spell</td>\n",
       "      <td>Shaman</td>\n",
       "      <td>0.0</td>\n",
       "      <td>True</td>\n",
       "      <td>0.0</td>\n",
       "      <td>None</td>\n",
       "      <td>0.0</td>\n",
       "      <td>0.0</td>\n",
       "      <td>0.0</td>\n",
       "      <td>...</td>\n",
       "      <td>False</td>\n",
       "      <td>False</td>\n",
       "      <td>False</td>\n",
       "      <td>False</td>\n",
       "      <td>False</td>\n",
       "      <td>False</td>\n",
       "      <td>False</td>\n",
       "      <td>False</td>\n",
       "      <td>False</td>\n",
       "      <td>1.0</td>\n",
       "    </tr>\n",
       "    <tr>\n",
       "      <th>1</th>\n",
       "      <td>Free</td>\n",
       "      <td>Minion</td>\n",
       "      <td>Neutral</td>\n",
       "      <td>1.0</td>\n",
       "      <td>False</td>\n",
       "      <td>1.0</td>\n",
       "      <td>None</td>\n",
       "      <td>0.0</td>\n",
       "      <td>0.0</td>\n",
       "      <td>0.0</td>\n",
       "      <td>...</td>\n",
       "      <td>False</td>\n",
       "      <td>False</td>\n",
       "      <td>False</td>\n",
       "      <td>False</td>\n",
       "      <td>False</td>\n",
       "      <td>False</td>\n",
       "      <td>False</td>\n",
       "      <td>False</td>\n",
       "      <td>False</td>\n",
       "      <td>0.0</td>\n",
       "    </tr>\n",
       "    <tr>\n",
       "      <th>2</th>\n",
       "      <td>Free</td>\n",
       "      <td>Spell</td>\n",
       "      <td>Rogue</td>\n",
       "      <td>0.0</td>\n",
       "      <td>True</td>\n",
       "      <td>0.0</td>\n",
       "      <td>None</td>\n",
       "      <td>0.0</td>\n",
       "      <td>0.0</td>\n",
       "      <td>0.0</td>\n",
       "      <td>...</td>\n",
       "      <td>False</td>\n",
       "      <td>False</td>\n",
       "      <td>False</td>\n",
       "      <td>False</td>\n",
       "      <td>False</td>\n",
       "      <td>False</td>\n",
       "      <td>False</td>\n",
       "      <td>False</td>\n",
       "      <td>False</td>\n",
       "      <td>0.0</td>\n",
       "    </tr>\n",
       "    <tr>\n",
       "      <th>3</th>\n",
       "      <td>Free</td>\n",
       "      <td>Spell</td>\n",
       "      <td>Warlock</td>\n",
       "      <td>0.0</td>\n",
       "      <td>False</td>\n",
       "      <td>0.0</td>\n",
       "      <td>None</td>\n",
       "      <td>0.0</td>\n",
       "      <td>0.0</td>\n",
       "      <td>0.0</td>\n",
       "      <td>...</td>\n",
       "      <td>False</td>\n",
       "      <td>False</td>\n",
       "      <td>False</td>\n",
       "      <td>False</td>\n",
       "      <td>False</td>\n",
       "      <td>False</td>\n",
       "      <td>False</td>\n",
       "      <td>False</td>\n",
       "      <td>False</td>\n",
       "      <td>0.0</td>\n",
       "    </tr>\n",
       "    <tr>\n",
       "      <th>4</th>\n",
       "      <td>Free</td>\n",
       "      <td>Spell</td>\n",
       "      <td>Shaman</td>\n",
       "      <td>0.0</td>\n",
       "      <td>False</td>\n",
       "      <td>0.0</td>\n",
       "      <td>None</td>\n",
       "      <td>0.0</td>\n",
       "      <td>0.0</td>\n",
       "      <td>0.0</td>\n",
       "      <td>...</td>\n",
       "      <td>False</td>\n",
       "      <td>False</td>\n",
       "      <td>False</td>\n",
       "      <td>False</td>\n",
       "      <td>False</td>\n",
       "      <td>False</td>\n",
       "      <td>False</td>\n",
       "      <td>False</td>\n",
       "      <td>False</td>\n",
       "      <td>1.0</td>\n",
       "    </tr>\n",
       "  </tbody>\n",
       "</table>\n",
       "<p>5 rows × 44 columns</p>\n",
       "</div>"
      ],
      "text/plain": [
       "  rarity    type playerClass  health  collectible  attack  race  cost  \\\n",
       "0   Free   Spell      Shaman     0.0         True     0.0  None   0.0   \n",
       "1   Free  Minion     Neutral     1.0        False     1.0  None   0.0   \n",
       "2   Free   Spell       Rogue     0.0         True     0.0  None   0.0   \n",
       "3   Free   Spell     Warlock     0.0        False     0.0  None   0.0   \n",
       "4   Free   Spell      Shaman     0.0        False     0.0  None   0.0   \n",
       "\n",
       "   durability  armor        ...         Adapt  Quest  Recruit   Rush   Echo  \\\n",
       "0         0.0    0.0        ...         False  False    False  False  False   \n",
       "1         0.0    0.0        ...         False  False    False  False  False   \n",
       "2         0.0    0.0        ...         False  False    False  False  False   \n",
       "3         0.0    0.0        ...         False  False    False  False  False   \n",
       "4         0.0    0.0        ...         False  False    False  False  False   \n",
       "\n",
       "   Magnetic  Overkill  Twinspell  Reborn  number mechanics  \n",
       "0     False     False      False   False               1.0  \n",
       "1     False     False      False   False               0.0  \n",
       "2     False     False      False   False               0.0  \n",
       "3     False     False      False   False               0.0  \n",
       "4     False     False      False   False               1.0  \n",
       "\n",
       "[5 rows x 44 columns]"
      ]
     },
     "execution_count": 5,
     "metadata": {},
     "output_type": "execute_result"
    }
   ],
   "source": [
    "dataset.head()"
   ]
  },
  {
   "cell_type": "code",
   "execution_count": 6,
   "metadata": {},
   "outputs": [
    {
     "data": {
      "text/plain": [
       "<matplotlib.axes._subplots.AxesSubplot at 0x20899ab7518>"
      ]
     },
     "execution_count": 6,
     "metadata": {},
     "output_type": "execute_result"
    },
    {
     "data": {
      "image/png": "[encoded data removed]",
      "text/plain": [
       "<Figure size 432x288 with 1 Axes>"
      ]
     },
     "metadata": {
      "needs_background": "light"
     },
     "output_type": "display_data"
    }
   ],
   "source": [
    "dataset['rarity'].value_counts().plot(kind='bar')"
   ]
  },
  {
   "cell_type": "markdown",
   "metadata": {},
   "source": [
    "##### Prepare the data"
   ]
  },
  {
   "cell_type": "code",
   "execution_count": 7,
   "metadata": {},
   "outputs": [],
   "source": [
    "# Values to change\n",
    "rarities = ['Legendary', 'Free', 'Common', 'Epic', 'Rare']\n",
    "types = ['Spell', 'Minion', 'Weapon', 'Hero Power', 'Hero']\n",
    "playerClasses = ['Neutral', 'Shaman', 'Rogue', 'Warlock', 'Druid', 'Mage', 'Hunter', 'Paladin', 'Warrior', 'Priest', 'Whizbang']\n",
    "races = ['None', 'Beast', 'Murloc', 'Totem', 'Mech', 'Demon', 'Elemental', 'Pirate', 'Dragon', 'All']"
   ]
  },
  {
   "cell_type": "code",
   "execution_count": 8,
   "metadata": {},
   "outputs": [],
   "source": [
    "# 1 if legendary, 0 otherwise\n",
    "for index in range(1, len(rarities)):\n",
    "    dataset = dataset.replace([rarities[index]], 0)\n",
    "dataset = dataset.replace('Legendary', 1)\n",
    "\n",
    "for index in range(len(types)):\n",
    "    dataset = dataset.replace([types[index]], index)\n",
    "    \n",
    "# 0 if neutral, 1 otherwise\n",
    "for index in range(1, len(playerClasses)):\n",
    "    dataset = dataset.replace([playerClasses[index]], 1)\n",
    "dataset = dataset.replace('Neutral', 0)\n",
    "\n",
    "for index in range(len(races)):\n",
    "    dataset = dataset.replace([races[index]], index)"
   ]
  },
  {
   "cell_type": "code",
   "execution_count": 9,
   "metadata": {},
   "outputs": [
    {
     "data": {
      "text/html": [
       "<div>\n",
       "<style scoped>\n",
       "    .dataframe tbody tr th:only-of-type {\n",
       "        vertical-align: middle;\n",
       "    }\n",
       "\n",
       "    .dataframe tbody tr th {\n",
       "        vertical-align: top;\n",
       "    }\n",
       "\n",
       "    .dataframe thead th {\n",
       "        text-align: right;\n",
       "    }\n",
       "</style>\n",
       "<table border=\"1\" class=\"dataframe\">\n",
       "  <thead>\n",
       "    <tr style=\"text-align: right;\">\n",
       "      <th></th>\n",
       "      <th>rarity</th>\n",
       "      <th>type</th>\n",
       "      <th>playerClass</th>\n",
       "      <th>health</th>\n",
       "      <th>collectible</th>\n",
       "      <th>attack</th>\n",
       "      <th>race</th>\n",
       "      <th>cost</th>\n",
       "      <th>durability</th>\n",
       "      <th>armor</th>\n",
       "      <th>...</th>\n",
       "      <th>Adapt</th>\n",
       "      <th>Quest</th>\n",
       "      <th>Recruit</th>\n",
       "      <th>Rush</th>\n",
       "      <th>Echo</th>\n",
       "      <th>Magnetic</th>\n",
       "      <th>Overkill</th>\n",
       "      <th>Twinspell</th>\n",
       "      <th>Reborn</th>\n",
       "      <th>number mechanics</th>\n",
       "    </tr>\n",
       "  </thead>\n",
       "  <tbody>\n",
       "    <tr>\n",
       "      <th>0</th>\n",
       "      <td>0</td>\n",
       "      <td>0</td>\n",
       "      <td>1</td>\n",
       "      <td>0.0</td>\n",
       "      <td>True</td>\n",
       "      <td>0.0</td>\n",
       "      <td>0</td>\n",
       "      <td>0.0</td>\n",
       "      <td>0.0</td>\n",
       "      <td>0.0</td>\n",
       "      <td>...</td>\n",
       "      <td>False</td>\n",
       "      <td>False</td>\n",
       "      <td>False</td>\n",
       "      <td>False</td>\n",
       "      <td>False</td>\n",
       "      <td>False</td>\n",
       "      <td>False</td>\n",
       "      <td>False</td>\n",
       "      <td>False</td>\n",
       "      <td>1.0</td>\n",
       "    </tr>\n",
       "    <tr>\n",
       "      <th>1</th>\n",
       "      <td>0</td>\n",
       "      <td>1</td>\n",
       "      <td>0</td>\n",
       "      <td>1.0</td>\n",
       "      <td>False</td>\n",
       "      <td>1.0</td>\n",
       "      <td>0</td>\n",
       "      <td>0.0</td>\n",
       "      <td>0.0</td>\n",
       "      <td>0.0</td>\n",
       "      <td>...</td>\n",
       "      <td>False</td>\n",
       "      <td>False</td>\n",
       "      <td>False</td>\n",
       "      <td>False</td>\n",
       "      <td>False</td>\n",
       "      <td>False</td>\n",
       "      <td>False</td>\n",
       "      <td>False</td>\n",
       "      <td>False</td>\n",
       "      <td>0.0</td>\n",
       "    </tr>\n",
       "    <tr>\n",
       "      <th>2</th>\n",
       "      <td>0</td>\n",
       "      <td>0</td>\n",
       "      <td>1</td>\n",
       "      <td>0.0</td>\n",
       "      <td>True</td>\n",
       "      <td>0.0</td>\n",
       "      <td>0</td>\n",
       "      <td>0.0</td>\n",
       "      <td>0.0</td>\n",
       "      <td>0.0</td>\n",
       "      <td>...</td>\n",
       "      <td>False</td>\n",
       "      <td>False</td>\n",
       "      <td>False</td>\n",
       "      <td>False</td>\n",
       "      <td>False</td>\n",
       "      <td>False</td>\n",
       "      <td>False</td>\n",
       "      <td>False</td>\n",
       "      <td>False</td>\n",
       "      <td>0.0</td>\n",
       "    </tr>\n",
       "    <tr>\n",
       "      <th>3</th>\n",
       "      <td>0</td>\n",
       "      <td>0</td>\n",
       "      <td>1</td>\n",
       "      <td>0.0</td>\n",
       "      <td>False</td>\n",
       "      <td>0.0</td>\n",
       "      <td>0</td>\n",
       "      <td>0.0</td>\n",
       "      <td>0.0</td>\n",
       "      <td>0.0</td>\n",
       "      <td>...</td>\n",
       "      <td>False</td>\n",
       "      <td>False</td>\n",
       "      <td>False</td>\n",
       "      <td>False</td>\n",
       "      <td>False</td>\n",
       "      <td>False</td>\n",
       "      <td>False</td>\n",
       "      <td>False</td>\n",
       "      <td>False</td>\n",
       "      <td>0.0</td>\n",
       "    </tr>\n",
       "    <tr>\n",
       "      <th>4</th>\n",
       "      <td>0</td>\n",
       "      <td>0</td>\n",
       "      <td>1</td>\n",
       "      <td>0.0</td>\n",
       "      <td>False</td>\n",
       "      <td>0.0</td>\n",
       "      <td>0</td>\n",
       "      <td>0.0</td>\n",
       "      <td>0.0</td>\n",
       "      <td>0.0</td>\n",
       "      <td>...</td>\n",
       "      <td>False</td>\n",
       "      <td>False</td>\n",
       "      <td>False</td>\n",
       "      <td>False</td>\n",
       "      <td>False</td>\n",
       "      <td>False</td>\n",
       "      <td>False</td>\n",
       "      <td>False</td>\n",
       "      <td>False</td>\n",
       "      <td>1.0</td>\n",
       "    </tr>\n",
       "  </tbody>\n",
       "</table>\n",
       "<p>5 rows × 44 columns</p>\n",
       "</div>"
      ],
      "text/plain": [
       "   rarity  type  playerClass  health  collectible  attack  race  cost  \\\n",
       "0       0     0            1     0.0         True     0.0     0   0.0   \n",
       "1       0     1            0     1.0        False     1.0     0   0.0   \n",
       "2       0     0            1     0.0         True     0.0     0   0.0   \n",
       "3       0     0            1     0.0        False     0.0     0   0.0   \n",
       "4       0     0            1     0.0        False     0.0     0   0.0   \n",
       "\n",
       "   durability  armor        ...         Adapt  Quest  Recruit   Rush   Echo  \\\n",
       "0         0.0    0.0        ...         False  False    False  False  False   \n",
       "1         0.0    0.0        ...         False  False    False  False  False   \n",
       "2         0.0    0.0        ...         False  False    False  False  False   \n",
       "3         0.0    0.0        ...         False  False    False  False  False   \n",
       "4         0.0    0.0        ...         False  False    False  False  False   \n",
       "\n",
       "   Magnetic  Overkill  Twinspell  Reborn  number mechanics  \n",
       "0     False     False      False   False               1.0  \n",
       "1     False     False      False   False               0.0  \n",
       "2     False     False      False   False               0.0  \n",
       "3     False     False      False   False               0.0  \n",
       "4     False     False      False   False               1.0  \n",
       "\n",
       "[5 rows x 44 columns]"
      ]
     },
     "execution_count": 9,
     "metadata": {},
     "output_type": "execute_result"
    }
   ],
   "source": [
    "dataset.head()"
   ]
  },
  {
   "cell_type": "code",
   "execution_count": 10,
   "metadata": {},
   "outputs": [
    {
     "data": {
      "text/plain": [
       "<matplotlib.axes._subplots.AxesSubplot at 0x20899ae24a8>"
      ]
     },
     "execution_count": 10,
     "metadata": {},
     "output_type": "execute_result"
    },
    {
     "data": {
      "image/png": "[encoded data removed]",
      "text/plain": [
       "<Figure size 432x288 with 1 Axes>"
      ]
     },
     "metadata": {
      "needs_background": "light"
     },
     "output_type": "display_data"
    }
   ],
   "source": [
    "# Balance the data - There are too few Legendary cards\n",
    "dataset = dataset.sample(frac=1, random_state=4)\n",
    "legendary_cards = dataset.loc[dataset['rarity'] == 1]\n",
    "non_legendary_cards = dataset.loc[dataset['rarity'] == 0].sample(n=350, random_state=42)\n",
    "dataset = pd.concat([legendary_cards, non_legendary_cards])\n",
    "dataset = dataset.sample(frac=1, random_state=4)\n",
    "\n",
    "dataset['rarity'].value_counts().plot(kind='bar')"
   ]
  },
  {
   "cell_type": "markdown",
   "metadata": {},
   "source": [
    "##### Train the Model"
   ]
  },
  {
   "cell_type": "code",
   "execution_count": 11,
   "metadata": {},
   "outputs": [],
   "source": [
    "# Split data and labels\n",
    "X = dataset.iloc[:, 1:].values\n",
    "y = dataset.iloc[:, 0].values\n",
    "\n",
    "# Split training and validation sets\n",
    "X_train, X_test, y_train, y_test = train_test_split(X, y, test_size=0.2, random_state=0)"
   ]
  },
  {
   "cell_type": "code",
   "execution_count": 13,
   "metadata": {},
   "outputs": [],
   "source": [
    "rf = RandomForestClassifier(n_estimators = 1000, random_state = 42)\n",
    "rf.fit(X_train, y_train)\n",
    "y_pred=rf.predict(X_test)"
   ]
  },
  {
   "cell_type": "markdown",
   "metadata": {},
   "source": [
    "##### Variable Importance"
   ]
  },
  {
   "cell_type": "code",
   "execution_count": 15,
   "metadata": {},
   "outputs": [
    {
     "name": "stderr",
     "output_type": "stream",
     "text": [
      "No handles with labels found to put in legend.\n"
     ]
    },
    {
     "name": "stdout",
     "output_type": "stream",
     "text": [
      "Accuracy: 0.7357142857142858\n",
      "Precision: 0.6666666666666666\n",
      "Recall: 0.7868852459016393\n",
      "cost                    0.221970\n",
      "health                  0.168987\n",
      "attack                  0.157834\n",
      "race                    0.058707\n",
      "number mechanics        0.056381\n",
      "Quest                   0.045572\n",
      "type                    0.044209\n",
      "playerClass             0.034402\n",
      "Battlecry               0.024284\n",
      "Deathrattle             0.020006\n",
      "Taunt                   0.017334\n",
      "Aura                    0.014698\n",
      "collectible             0.012297\n",
      "Combo                   0.010871\n",
      "Stealth                 0.010036\n",
      "Discover                0.010028\n",
      "Divine Shield           0.008042\n",
      "durability              0.007909\n",
      "armor                   0.007429\n",
      "Secret                  0.007293\n",
      "Rush                    0.006940\n",
      "Lifesteal               0.006786\n",
      "Magnetic                0.005867\n",
      "Overload                0.005303\n",
      "Spell Damage            0.004799\n",
      "Windfury                0.004607\n",
      "InvisibleDeathrattle    0.004503\n",
      "Charge                  0.004479\n",
      "Reborn                  0.003356\n",
      "Poisonous               0.002725\n",
      "Silence                 0.002434\n",
      "Freeze                  0.002046\n",
      "Inspire                 0.001575\n",
      "Twinspell               0.001341\n",
      "ImmuneToSpellpower      0.000949\n",
      "Recruit                 0.000910\n",
      "Overkill                0.000862\n",
      "Echo                    0.000834\n",
      "Jade Golem              0.000818\n",
      "Adapt                   0.000448\n",
      "AffectedBySpellPower    0.000129\n",
      "AdjacentBuff            0.000000\n",
      "AIMustPlay              0.000000\n",
      "dtype: float64\n"
     ]
    },
    {
     "data": {
      "image/png": "[encoded data removed]",
      "text/plain": [
       "<Figure size 1440x1440 with 1 Axes>"
      ]
     },
     "metadata": {
      "needs_background": "light"
     },
     "output_type": "display_data"
    }
   ],
   "source": [
    "print(\"Accuracy:\", metrics.accuracy_score(y_test, y_pred))\n",
    "print(\"Precision:\", metrics.precision_score(y_test, y_pred))\n",
    "print(\"Recall:\", metrics.recall_score(y_test, y_pred))\n",
    "\n",
    "feature_imp = pd.Series(rf.feature_importances_,index=header[1:]).sort_values(ascending=False)\n",
    "\n",
    "print(feature_imp)\n",
    "\n",
    "sns.barplot(x=feature_imp, y=feature_imp.index)\n",
    "plt.rcParams[\"figure.figsize\"] = [20,20]\n",
    "plt.xlabel('Feature Importance Score')\n",
    "plt.ylabel('Features')\n",
    "plt.title(\"Visualizing Important Features\")\n",
    "plt.legend()\n",
    "plt.show()"
   ]
  }
 ],
 "metadata": {
  "kernelspec": {
   "display_name": "Python 3",
   "language": "python",
   "name": "python3"
  },
  "language_info": {
   "codemirror_mode": {
    "name": "ipython",
    "version": 3
   },
   "file_extension": ".py",
   "mimetype": "text/x-python",
   "name": "python",
   "nbconvert_exporter": "python",
   "pygments_lexer": "ipython3",
   "version": "3.5.6"
  }
 },
 "nbformat": 4,
 "nbformat_minor": 2
}
